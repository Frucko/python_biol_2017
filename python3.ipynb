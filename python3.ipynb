{
 "cells": [
  {
   "cell_type": "code",
   "execution_count": 1,
   "metadata": {},
   "outputs": [
    {
     "name": "stdout",
     "output_type": "stream",
     "text": [
      "Chcete znat vek sve kocky prepocitan na lidske roky? (ano/ne) ano\n",
      "Skvele! Kolik je Vasi kocce let? 20\n",
      "Vaší kočce je 115 let.\n"
     ]
    }
   ],
   "source": [
    "a = input(\"Chcete znat vek sve kocky prepocitan na lidske roky? (ano/ne) \")\n",
    "if a == 'ano':\n",
    "    vek = input(\"Skvele! Kolik je Vasi kocce let? \")\n",
    "    if vek == \"1\":\n",
    "            print(\"Vaší kočce je 18 let.\")\n",
    "    elif vek == 2:\n",
    "            print(\"Vaší kočce je 25 let.\")\n",
    "    elif int(vek) >= 3:\n",
    "            print(\"Vaší kočce je {} let.\".format(25+((int(vek)-2)*5)))\n",
    "else:\n",
    "        print(\"Tak bohuzel, nic jineho delat neumim.\")\n"
   ]
  },
  {
   "cell_type": "code",
   "execution_count": 2,
   "metadata": {
    "collapsed": true
   },
   "outputs": [],
   "source": [
    "veta = ('Král řekl Honzovi: \"Ta saň má 7 hlav! Zabij ji a dostaneš 1/2 království.\"').lower()"
   ]
  },
  {
   "cell_type": "code",
   "execution_count": 5,
   "metadata": {
    "collapsed": true
   },
   "outputs": [],
   "source": [
    "abeceda = [\"a\",\"á\",\"b\",\"c\",\"č\",\"d\",\"ď\",\"e\",\"ě\",\"é\",\"f\",\"g\",\"h\",\"i\",\"í\",\"j\",\"k\",\"l\",\"m\",\"n\",\"ň\",\"o\",\"p\",\"q\",\"r\",\"ř\",\"s\",\"š\",\"t\",\"ť\",\"u\",\"ů\",\"ú\",\"v\",\"w\",\"x\",\"y\",\"ý\",\"z\",\"ž\"]"
   ]
  },
  {
   "cell_type": "code",
   "execution_count": 6,
   "metadata": {
    "collapsed": true
   },
   "outputs": [],
   "source": [
    "cisla = [\"1\",\"2\",\"3\",\"4\",\"5\",\"6\",\"7\",\"8\",\"9\",\"0\"]"
   ]
  },
  {
   "cell_type": "code",
   "execution_count": 7,
   "metadata": {
    "collapsed": true
   },
   "outputs": [],
   "source": [
    "cisla_pismena = abeceda + cisla"
   ]
  },
  {
   "cell_type": "code",
   "execution_count": 8,
   "metadata": {},
   "outputs": [
    {
     "data": {
      "text/plain": [
       "['k',\n",
       " 'r',\n",
       " 'á',\n",
       " 'l',\n",
       " ' ',\n",
       " 'ř',\n",
       " 'e',\n",
       " 'k',\n",
       " 'l',\n",
       " ' ',\n",
       " 'h',\n",
       " 'o',\n",
       " 'n',\n",
       " 'z',\n",
       " 'o',\n",
       " 'v',\n",
       " 'i',\n",
       " ':',\n",
       " ' ',\n",
       " '\"',\n",
       " 't',\n",
       " 'a',\n",
       " ' ',\n",
       " 's',\n",
       " 'a',\n",
       " 'ň',\n",
       " ' ',\n",
       " 'm',\n",
       " 'á',\n",
       " ' ',\n",
       " '7',\n",
       " ' ',\n",
       " 'h',\n",
       " 'l',\n",
       " 'a',\n",
       " 'v',\n",
       " '!',\n",
       " ' ',\n",
       " 'z',\n",
       " 'a',\n",
       " 'b',\n",
       " 'i',\n",
       " 'j',\n",
       " ' ',\n",
       " 'j',\n",
       " 'i',\n",
       " ' ',\n",
       " 'a',\n",
       " ' ',\n",
       " 'd',\n",
       " 'o',\n",
       " 's',\n",
       " 't',\n",
       " 'a',\n",
       " 'n',\n",
       " 'e',\n",
       " 'š',\n",
       " ' ',\n",
       " '1',\n",
       " '/',\n",
       " '2',\n",
       " ' ',\n",
       " 'k',\n",
       " 'r',\n",
       " 'á',\n",
       " 'l',\n",
       " 'o',\n",
       " 'v',\n",
       " 's',\n",
       " 't',\n",
       " 'v',\n",
       " 'í',\n",
       " '.',\n",
       " '\"']"
      ]
     },
     "execution_count": 8,
     "metadata": {},
     "output_type": "execute_result"
    }
   ],
   "source": [
    "list(veta)"
   ]
  },
  {
   "cell_type": "code",
   "execution_count": 9,
   "metadata": {
    "scrolled": true
   },
   "outputs": [
    {
     "name": "stdout",
     "output_type": "stream",
     "text": [
      "Veta obsahuje 52 pismen.\n"
     ]
    }
   ],
   "source": [
    "letters = []\n",
    "for letter in veta:\n",
    "    if letter in abeceda:\n",
    "        letters.append(letter)\n",
    "print(\"Veta obsahuje {} pismen.\".format(len(letters)))\n"
   ]
  },
  {
   "cell_type": "code",
   "execution_count": 10,
   "metadata": {},
   "outputs": [
    {
     "name": "stdout",
     "output_type": "stream",
     "text": [
      "Veta obsahuje 3 cisla.\n"
     ]
    }
   ],
   "source": [
    "numbers = []\n",
    "for x in veta:\n",
    "    if x in cisla:\n",
    "        numbers.append(x)\n",
    "print(\"Veta obsahuje {} cisla.\".format(len(numbers)))"
   ]
  },
  {
   "cell_type": "code",
   "execution_count": 7,
   "metadata": {},
   "outputs": [
    {
     "ename": "NameError",
     "evalue": "name 'cisla_pismena' is not defined",
     "output_type": "error",
     "traceback": [
      "\u001b[1;31m---------------------------------------------------------------------------\u001b[0m",
      "\u001b[1;31mNameError\u001b[0m                                 Traceback (most recent call last)",
      "\u001b[1;32m<ipython-input-7-93d838d8156f>\u001b[0m in \u001b[0;36m<module>\u001b[1;34m()\u001b[0m\n\u001b[0;32m      1\u001b[0m \u001b[0mglyphs\u001b[0m \u001b[1;33m=\u001b[0m \u001b[1;33m[\u001b[0m\u001b[1;33m]\u001b[0m\u001b[1;33m\u001b[0m\u001b[0m\n\u001b[0;32m      2\u001b[0m \u001b[1;32mfor\u001b[0m \u001b[0mx\u001b[0m \u001b[1;32min\u001b[0m \u001b[0mveta\u001b[0m\u001b[1;33m:\u001b[0m\u001b[1;33m\u001b[0m\u001b[0m\n\u001b[1;32m----> 3\u001b[1;33m     \u001b[1;32mif\u001b[0m \u001b[0mx\u001b[0m \u001b[1;32mnot\u001b[0m \u001b[1;32min\u001b[0m \u001b[0mcisla_pismena\u001b[0m\u001b[1;33m:\u001b[0m\u001b[1;33m\u001b[0m\u001b[0m\n\u001b[0m\u001b[0;32m      4\u001b[0m         \u001b[0mglyphs\u001b[0m\u001b[1;33m.\u001b[0m\u001b[0mappend\u001b[0m\u001b[1;33m(\u001b[0m\u001b[0mx\u001b[0m\u001b[1;33m)\u001b[0m\u001b[1;33m\u001b[0m\u001b[0m\n\u001b[0;32m      5\u001b[0m \u001b[0mprint\u001b[0m\u001b[1;33m(\u001b[0m\u001b[1;34m\"Veta obsahuje {} znaku.\"\u001b[0m\u001b[1;33m.\u001b[0m\u001b[0mformat\u001b[0m\u001b[1;33m(\u001b[0m\u001b[0mlen\u001b[0m\u001b[1;33m(\u001b[0m\u001b[0mglyphs\u001b[0m\u001b[1;33m)\u001b[0m\u001b[1;33m)\u001b[0m\u001b[1;33m)\u001b[0m\u001b[1;33m\u001b[0m\u001b[0m\n",
      "\u001b[1;31mNameError\u001b[0m: name 'cisla_pismena' is not defined"
     ]
    }
   ],
   "source": [
    "glyphs = []\n",
    "for x in veta:\n",
    "    if x not in cisla_pismena:\n",
    "        glyphs.append(x)\n",
    "print(\"Veta obsahuje {} znaku.\".format(len(glyphs)))"
   ]
  },
  {
   "cell_type": "code",
   "execution_count": 13,
   "metadata": {},
   "outputs": [
    {
     "name": "stdout",
     "output_type": "stream",
     "text": [
      "Veta obsahuje 19 znaku.\n"
     ]
    }
   ],
   "source": [
    "print(\"Veta obsahuje {} znaku.\".format(len([x for x in veta if x not in cisla + abeceda])))"
   ]
  },
  {
   "cell_type": "code",
   "execution_count": 14,
   "metadata": {},
   "outputs": [
    {
     "name": "stdout",
     "output_type": "stream",
     "text": [
      "Veta obsahuje 3 cisla.\n"
     ]
    }
   ],
   "source": [
    "print(\"Veta obsahuje {} cisla.\".format(len([x for x in veta if x in cisla])))"
   ]
  },
  {
   "cell_type": "code",
   "execution_count": 15,
   "metadata": {},
   "outputs": [
    {
     "name": "stdout",
     "output_type": "stream",
     "text": [
      "Veta obsahuje 52 pismen.\n"
     ]
    }
   ],
   "source": [
    "print(\"Veta obsahuje {} pismen.\".format(len([x for x in veta if x in abeceda])))"
   ]
  },
  {
   "cell_type": "code",
   "execution_count": 6,
   "metadata": {},
   "outputs": [
    {
     "ename": "SyntaxError",
     "evalue": "invalid syntax (<ipython-input-6-d2a326471207>, line 1)",
     "output_type": "error",
     "traceback": [
      "\u001b[1;36m  File \u001b[1;32m\"<ipython-input-6-d2a326471207>\"\u001b[1;36m, line \u001b[1;32m1\u001b[0m\n\u001b[1;33m    x for x in veta if x.isalpha()\u001b[0m\n\u001b[1;37m        ^\u001b[0m\n\u001b[1;31mSyntaxError\u001b[0m\u001b[1;31m:\u001b[0m invalid syntax\n"
     ]
    }
   ],
   "source": [
    "x for x in veta if x.isalpha()"
   ]
  },
  {
   "cell_type": "code",
   "execution_count": 5,
   "metadata": {},
   "outputs": [
    {
     "ename": "TypeError",
     "evalue": "object of type 'generator' has no len()",
     "output_type": "error",
     "traceback": [
      "\u001b[1;31m---------------------------------------------------------------------------\u001b[0m",
      "\u001b[1;31mTypeError\u001b[0m                                 Traceback (most recent call last)",
      "\u001b[1;32m<ipython-input-5-d5104026333c>\u001b[0m in \u001b[0;36m<module>\u001b[1;34m()\u001b[0m\n\u001b[1;32m----> 1\u001b[1;33m \u001b[0mcislice\u001b[0m \u001b[1;33m=\u001b[0m \u001b[0mlen\u001b[0m\u001b[1;33m(\u001b[0m\u001b[0mx\u001b[0m \u001b[1;32mfor\u001b[0m \u001b[0mx\u001b[0m \u001b[1;32min\u001b[0m \u001b[0mveta\u001b[0m \u001b[1;32mif\u001b[0m \u001b[0mx\u001b[0m\u001b[1;33m.\u001b[0m\u001b[0misdigit\u001b[0m\u001b[1;33m(\u001b[0m\u001b[1;33m)\u001b[0m\u001b[1;33m)\u001b[0m\u001b[1;33m\u001b[0m\u001b[0m\n\u001b[0m",
      "\u001b[1;31mTypeError\u001b[0m: object of type 'generator' has no len()"
     ]
    }
   ],
   "source": [
    "cislice = len(x for x in veta if x.isdigit())"
   ]
  },
  {
   "cell_type": "code",
   "execution_count": null,
   "metadata": {
    "collapsed": true
   },
   "outputs": [],
   "source": []
  }
 ],
 "metadata": {
  "kernelspec": {
   "display_name": "Python 3",
   "language": "python",
   "name": "python3"
  },
  "language_info": {
   "codemirror_mode": {
    "name": "ipython",
    "version": 3
   },
   "file_extension": ".py",
   "mimetype": "text/x-python",
   "name": "python",
   "nbconvert_exporter": "python",
   "pygments_lexer": "ipython3",
   "version": "3.6.1"
  }
 },
 "nbformat": 4,
 "nbformat_minor": 2
}
