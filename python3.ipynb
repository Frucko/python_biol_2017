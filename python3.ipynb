{
 "cells": [
  {
   "cell_type": "code",
   "execution_count": 3,
   "metadata": {},
   "outputs": [
    {
     "name": "stdout",
     "output_type": "stream",
     "text": [
      "Chcete znat vek sve kocky prepocitan na lidske roky? (ano/ne) ano\n",
      "Skvele! Kolik je Vasi kocce let? 5\n",
      "Vaší kočce je 40 let.\n"
     ]
    }
   ],
   "source": [
    "a = input(\"Chcete znat vek sve kocky prepocitan na lidske roky? (ano/ne) \")\n",
    "if a == 'ano':\n",
    "    vek = input(\"Skvele! Kolik je Vasi kocce let? \")\n",
    "    if vek == \"1\":\n",
    "            print(\"Vaší kočce je 18 let.\")\n",
    "    elif vek == 2:\n",
    "            print(\"Vaší kočce je 25 let.\")\n",
    "    elif int(vek) >= 3:\n",
    "            print(\"Vaší kočce je {} let.\".format(25+((int(vek)-2)*5)))\n",
    "else:\n",
    "        print(\"Tak bohuzel, nic jineho delat neumim.\")\n"
   ]
  },
  {
   "cell_type": "code",
   "execution_count": 4,
   "metadata": {
    "collapsed": true
   },
   "outputs": [],
   "source": [
    "veta = ('Král řekl Honzovi: \"Ta saň má 7 hlav! Zabij ji a dostaneš 1/2 království.\"').lower()"
   ]
  },
  {
   "cell_type": "code",
   "execution_count": 5,
   "metadata": {
    "collapsed": true
   },
   "outputs": [],
   "source": [
    "abeceda = [\"a\",\"á\",\"b\",\"c\",\"č\",\"d\",\"ď\",\"e\",\"ě\",\"é\",\"f\",\"g\",\"h\",\"i\",\"í\",\"j\",\"k\",\"l\",\"m\",\"n\",\"ň\",\"o\",\"p\",\"q\",\"r\",\"ř\",\"s\",\"š\",\"t\",\"ť\",\"u\",\"ů\",\"ú\",\"v\",\"w\",\"x\",\"y\",\"ý\",\"z\",\"ž\"]"
   ]
  },
  {
   "cell_type": "code",
   "execution_count": 6,
   "metadata": {
    "collapsed": true
   },
   "outputs": [],
   "source": [
    "cisla = [\"1\",\"2\",\"3\",\"4\",\"5\",\"6\",\"7\",\"8\",\"9\",\"0\"]"
   ]
  },
  {
   "cell_type": "code",
   "execution_count": 7,
   "metadata": {
    "collapsed": true
   },
   "outputs": [],
   "source": [
    "cisla_pismena = abeceda + cisla"
   ]
  },
  {
   "cell_type": "code",
   "execution_count": 8,
   "metadata": {},
   "outputs": [
    {
     "data": {
      "text/plain": [
       "['k',\n",
       " 'r',\n",
       " 'á',\n",
       " 'l',\n",
       " ' ',\n",
       " 'ř',\n",
       " 'e',\n",
       " 'k',\n",
       " 'l',\n",
       " ' ',\n",
       " 'h',\n",
       " 'o',\n",
       " 'n',\n",
       " 'z',\n",
       " 'o',\n",
       " 'v',\n",
       " 'i',\n",
       " ':',\n",
       " ' ',\n",
       " '\"',\n",
       " 't',\n",
       " 'a',\n",
       " ' ',\n",
       " 's',\n",
       " 'a',\n",
       " 'ň',\n",
       " ' ',\n",
       " 'm',\n",
       " 'á',\n",
       " ' ',\n",
       " '7',\n",
       " ' ',\n",
       " 'h',\n",
       " 'l',\n",
       " 'a',\n",
       " 'v',\n",
       " '!',\n",
       " ' ',\n",
       " 'z',\n",
       " 'a',\n",
       " 'b',\n",
       " 'i',\n",
       " 'j',\n",
       " ' ',\n",
       " 'j',\n",
       " 'i',\n",
       " ' ',\n",
       " 'a',\n",
       " ' ',\n",
       " 'd',\n",
       " 'o',\n",
       " 's',\n",
       " 't',\n",
       " 'a',\n",
       " 'n',\n",
       " 'e',\n",
       " 'š',\n",
       " ' ',\n",
       " '1',\n",
       " '/',\n",
       " '2',\n",
       " ' ',\n",
       " 'k',\n",
       " 'r',\n",
       " 'á',\n",
       " 'l',\n",
       " 'o',\n",
       " 'v',\n",
       " 's',\n",
       " 't',\n",
       " 'v',\n",
       " 'í',\n",
       " '.',\n",
       " '\"']"
      ]
     },
     "execution_count": 8,
     "metadata": {},
     "output_type": "execute_result"
    }
   ],
   "source": [
    "list(veta)"
   ]
  },
  {
   "cell_type": "code",
   "execution_count": 9,
   "metadata": {
    "scrolled": true
   },
   "outputs": [
    {
     "name": "stdout",
     "output_type": "stream",
     "text": [
      "Veta obsahuje 52 pismen.\n"
     ]
    }
   ],
   "source": [
    "letters = []\n",
    "for letter in veta:\n",
    "    if letter in abeceda:\n",
    "        letters.append(letter)\n",
    "print(\"Veta obsahuje {} pismen.\".format(len(letters)))\n"
   ]
  },
  {
   "cell_type": "code",
   "execution_count": 10,
   "metadata": {},
   "outputs": [
    {
     "name": "stdout",
     "output_type": "stream",
     "text": [
      "Veta obsahuje 3 cisla.\n"
     ]
    }
   ],
   "source": [
    "numbers = []\n",
    "for x in veta:\n",
    "    if x in cisla:\n",
    "        numbers.append(x)\n",
    "print(\"Veta obsahuje {} cisla.\".format(len(numbers)))"
   ]
  },
  {
   "cell_type": "code",
   "execution_count": 11,
   "metadata": {},
   "outputs": [
    {
     "name": "stdout",
     "output_type": "stream",
     "text": [
      "Veta obsahuje 19 znaku.\n"
     ]
    }
   ],
   "source": [
    "glyphs = []\n",
    "for x in veta:\n",
    "    if x not in cisla_pismena:\n",
    "        glyphs.append(x)\n",
    "print(\"Veta obsahuje {} znaku.\".format(len(glyphs)))"
   ]
  },
  {
   "cell_type": "code",
   "execution_count": 13,
   "metadata": {},
   "outputs": [
    {
     "name": "stdout",
     "output_type": "stream",
     "text": [
      "Veta obsahuje 19 znaku.\n"
     ]
    }
   ],
   "source": [
    "print(\"Veta obsahuje {} znaku.\".format(len([x for x in veta if x not in cisla + abeceda])))"
   ]
  },
  {
   "cell_type": "code",
   "execution_count": 14,
   "metadata": {},
   "outputs": [
    {
     "name": "stdout",
     "output_type": "stream",
     "text": [
      "Veta obsahuje 3 cisla.\n"
     ]
    }
   ],
   "source": [
    "print(\"Veta obsahuje {} cisla.\".format(len([x for x in veta if x in cisla])))"
   ]
  },
  {
   "cell_type": "code",
   "execution_count": 15,
   "metadata": {},
   "outputs": [
    {
     "name": "stdout",
     "output_type": "stream",
     "text": [
      "Veta obsahuje 52 pismen.\n"
     ]
    }
   ],
   "source": [
    "print(\"Veta obsahuje {} pismen.\".format(len([x for x in veta if x in abeceda])))"
   ]
  }
 ],
 "metadata": {
  "kernelspec": {
   "display_name": "Python 3",
   "language": "python",
   "name": "python3"
  },
  "language_info": {
   "codemirror_mode": {
    "name": "ipython",
    "version": 3
   },
   "file_extension": ".py",
   "mimetype": "text/x-python",
   "name": "python",
   "nbconvert_exporter": "python",
   "pygments_lexer": "ipython3",
   "version": "3.6.1"
  }
 },
 "nbformat": 4,
 "nbformat_minor": 2
}
