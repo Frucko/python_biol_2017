{
 "cells": [
  {
   "cell_type": "code",
   "execution_count": 21,
   "metadata": {},
   "outputs": [
    {
     "name": "stdout",
     "output_type": "stream",
     "text": [
      "Napis sve jmeno michal\n"
     ]
    }
   ],
   "source": [
    "jmeno = input(\"Napis sve jmeno \")"
   ]
  },
  {
   "cell_type": "code",
   "execution_count": 22,
   "metadata": {},
   "outputs": [
    {
     "data": {
      "text/plain": [
       "'michal'"
      ]
     },
     "execution_count": 22,
     "metadata": {},
     "output_type": "execute_result"
    }
   ],
   "source": [
    "jmeno"
   ]
  },
  {
   "cell_type": "code",
   "execution_count": 23,
   "metadata": {},
   "outputs": [
    {
     "name": "stdout",
     "output_type": "stream",
     "text": [
      "5 je liché\n"
     ]
    }
   ],
   "source": [
    "if x % 2 == 0:\n",
    "    print(x, \"je sudé\")\n",
    "else:\n",
    "    print(x, \"je liché\")"
   ]
  },
  {
   "cell_type": "code",
   "execution_count": 24,
   "metadata": {
    "collapsed": true
   },
   "outputs": [],
   "source": [
    "names_list = ['Jiří', 'Jan', 'Marie', 'Petr', 'Jana', 'Josef', 'Pavel', 'Martin', 'Jaroslav', 'Tomáš', 'Eva', 'Miroslav', 'Hana', 'Anna', 'Zdeněk', 'František', 'Václav', 'Michal', 'Lenka', 'Kateřina']\n"
   ]
  },
  {
   "cell_type": "code",
   "execution_count": 25,
   "metadata": {},
   "outputs": [
    {
     "name": "stdout",
     "output_type": "stream",
     "text": [
      "Nikdo te nema rad\n"
     ]
    }
   ],
   "source": [
    "if jmeno in names_list:\n",
    "    print(\"Tvoje jmeno je super\")\n",
    "else:\n",
    "        print(\"Nikdo te nema rad\")"
   ]
  },
  {
   "cell_type": "code",
   "execution_count": 26,
   "metadata": {},
   "outputs": [
    {
     "data": {
      "text/plain": [
       "range(0, 10)"
      ]
     },
     "execution_count": 26,
     "metadata": {},
     "output_type": "execute_result"
    }
   ],
   "source": [
    "range(10)"
   ]
  },
  {
   "cell_type": "code",
   "execution_count": 27,
   "metadata": {},
   "outputs": [
    {
     "data": {
      "text/plain": [
       "[0, 1, 2, 3, 4, 5, 6, 7, 8, 9]"
      ]
     },
     "execution_count": 27,
     "metadata": {},
     "output_type": "execute_result"
    }
   ],
   "source": [
    "list(range(10))"
   ]
  },
  {
   "cell_type": "code",
   "execution_count": 28,
   "metadata": {},
   "outputs": [
    {
     "data": {
      "text/plain": [
       "[2, 3, 4, 5, 6, 7]"
      ]
     },
     "execution_count": 28,
     "metadata": {},
     "output_type": "execute_result"
    }
   ],
   "source": [
    "list(range(2,8))"
   ]
  },
  {
   "cell_type": "code",
   "execution_count": 30,
   "metadata": {},
   "outputs": [
    {
     "name": "stdout",
     "output_type": "stream",
     "text": [
      "0\n",
      "1\n",
      "2\n",
      "3\n",
      "4\n"
     ]
    }
   ],
   "source": [
    "for i in range(5):\n",
    "    print(i)"
   ]
  },
  {
   "cell_type": "code",
   "execution_count": 31,
   "metadata": {},
   "outputs": [
    {
     "data": {
      "text/plain": [
       "[1, 3, 5, 7, 9, 11, 13]"
      ]
     },
     "execution_count": 31,
     "metadata": {},
     "output_type": "execute_result"
    }
   ],
   "source": [
    "all_numbers = list(range(15))\n",
    "all_numbers\n",
    "[0, 1, 2, 3, 4, 5, 6, 7, 8, 9, 10, 11, 12, 13, 14]\n",
    "\n",
    "odd_numbers = [x for x in all_numbers if x % 2 == 1]\n",
    "odd_numbers\n",
    "[1, 3, 5, 7, 9, 11, 13]\n"
   ]
  },
  {
   "cell_type": "code",
   "execution_count": null,
   "metadata": {
    "collapsed": true
   },
   "outputs": [],
   "source": [
    "all_numbers\n",
    "[0, 1, 2, 3, 4, 5, 6, 7, 8, 9, 10, 11, 12, 13, 14]\n",
    "\n",
    "odd_numbers = [x for x in all_numbers if x % 2 == 1]\n",
    "odd_numbers\n",
    "[1, 3, 5, 7, 9, 11, 13]\n"
   ]
  },
  {
   "cell_type": "code",
   "execution_count": 34,
   "metadata": {},
   "outputs": [
    {
     "data": {
      "text/plain": [
       "[1, 9, 25, 49, 81]"
      ]
     },
     "execution_count": 34,
     "metadata": {},
     "output_type": "execute_result"
    }
   ],
   "source": [
    "[x**2 for x in range(10) if x % 2==1]"
   ]
  },
  {
   "cell_type": "code",
   "execution_count": 35,
   "metadata": {
    "collapsed": true
   },
   "outputs": [],
   "source": [
    "friends=[\"Laura\",\"Vojta\",\"Prokop\",\"Ivo\",\"Peta\"]"
   ]
  },
  {
   "cell_type": "code",
   "execution_count": 52,
   "metadata": {
    "collapsed": true
   },
   "outputs": [],
   "source": [
    "plus_friends = [x + \" je super!!!\"for x in friends]"
   ]
  },
  {
   "cell_type": "code",
   "execution_count": 53,
   "metadata": {},
   "outputs": [
    {
     "data": {
      "text/plain": [
       "['Laura je super!!!',\n",
       " 'Vojta je super!!!',\n",
       " 'Prokop je super!!!',\n",
       " 'Ivo je super!!!',\n",
       " 'Peta je super!!!']"
      ]
     },
     "execution_count": 53,
     "metadata": {},
     "output_type": "execute_result"
    }
   ],
   "source": [
    "plus_friends"
   ]
  },
  {
   "cell_type": "code",
   "execution_count": 55,
   "metadata": {
    "collapsed": true
   },
   "outputs": [],
   "source": [
    "seq = 'ACTGCTCAAG'\n"
   ]
  },
  {
   "cell_type": "code",
   "execution_count": 62,
   "metadata": {},
   "outputs": [
    {
     "data": {
      "text/plain": [
       "[0, 1, 2, 3, 4, 5, 6, 7, 8, 9]"
      ]
     },
     "execution_count": 62,
     "metadata": {},
     "output_type": "execute_result"
    }
   ],
   "source": [
    "list(range(len(seq)))"
   ]
  },
  {
   "cell_type": "code",
   "execution_count": 67,
   "metadata": {},
   "outputs": [
    {
     "data": {
      "text/plain": [
       "[0, 7, 8]"
      ]
     },
     "execution_count": 67,
     "metadata": {},
     "output_type": "execute_result"
    }
   ],
   "source": [
    "[a for a in range(len(seq)) if seq[a]==\"A\"]\n",
    "    "
   ]
  },
  {
   "cell_type": "code",
   "execution_count": 68,
   "metadata": {
    "collapsed": true
   },
   "outputs": [],
   "source": [
    "\n",
    "d = {'a':'alfa', 'b':'bravo', 'c':'charlie', 'd':'delta', 'e':'echo', 'f':'foxtrot', 'g':'golf', 'h':'hotel', 'i':'india', 'j':'juliett', 'k':'kilo', 'l':'lima', 'm':'mike', 'n':'november', 'o':'oscar', 'p':'papa', 'q':'quebec', 'r':'romeo', 's':'sierra', 't':'tango', 'u':'uniform', 'v':'victor', 'w':'whiskey', 'x':'x-ray', 'y':'yankee', 'z':'zulu'}\n",
    "\n"
   ]
  },
  {
   "cell_type": "code",
   "execution_count": null,
   "metadata": {
    "collapsed": true
   },
   "outputs": [],
   "source": [
    "name = input(\"Napis sve jmeno (bez diakritiky) \")"
   ]
  },
  {
   "cell_type": "code",
   "execution_count": null,
   "metadata": {
    "collapsed": true
   },
   "outputs": [],
   "source": [
    "[for letter in name.lower print(d[letter])]"
   ]
  },
  {
   "cell_type": "code",
   "execution_count": null,
   "metadata": {
    "collapsed": true
   },
   "outputs": [],
   "source": [
    "[a for a in range(len(seq)) if seq[a]==\"A\"]"
   ]
  },
  {
   "cell_type": "code",
   "execution_count": 142,
   "metadata": {},
   "outputs": [
    {
     "name": "stdout",
     "output_type": "stream",
     "text": [
      "Chcete znat vek sve kocky prepocitan na lidske roky? (ano/ne) ano\n",
      "Skvele! Kolik je Vasi kocce let? 14\n",
      "Vaší kočce je 85 let.\n"
     ]
    }
   ],
   "source": [
    "a = input(\"Chcete znat vek sve kocky prepocitan na lidske roky? (ano/ne) \")\n",
    "if a == 'ano':\n",
    "    vek = input(\"Skvele! Kolik je Vasi kocce let? \")\n",
    "    if vek == \"1\":\n",
    "            print(\"Vaší kočce je 18 let.\")\n",
    "    elif vek == 2:\n",
    "            print(\"Vaší kočce je 25 let.\")\n",
    "    elif int(vek) >= 3:\n",
    "            print(\"Vaší kočce je {} let.\".format(25+((int(vek)-2)*5)))\n",
    "else:\n",
    "        print(\"Tak bohuzel, nic jineho delat neumim.\")\n"
   ]
  },
  {
   "cell_type": "code",
   "execution_count": 117,
   "metadata": {
    "collapsed": true
   },
   "outputs": [],
   "source": [
    "veta = ('Král řekl Honzovi: \"Ta saň má 7 hlav! Zabij ji a dostaneš 1/2 království.\"').lower()"
   ]
  },
  {
   "cell_type": "code",
   "execution_count": 118,
   "metadata": {
    "collapsed": true
   },
   "outputs": [],
   "source": [
    "abeceda = [\"a\",\"á\",\"b\",\"c\",\"č\",\"d\",\"ď\",\"e\",\"ě\",\"é\",\"f\",\"g\",\"h\",\"i\",\"í\",\"j\",\"k\",\"l\",\"m\",\"n\",\"ň\",\"o\",\"p\",\"q\",\"r\",\"ř\",\"s\",\"š\",\"t\",\"ť\",\"u\",\"ů\",\"ú\",\"v\",\"w\",\"x\",\"y\",\"ý\",\"z\",\"ž\"]"
   ]
  },
  {
   "cell_type": "code",
   "execution_count": 119,
   "metadata": {
    "collapsed": true
   },
   "outputs": [],
   "source": [
    "cisla = [\"1\",\"2\",\"3\",\"4\",\"5\",\"6\",\"7\",\"8\",\"9\",\"0\"]"
   ]
  },
  {
   "cell_type": "code",
   "execution_count": 120,
   "metadata": {
    "collapsed": true
   },
   "outputs": [],
   "source": [
    "cisla_pismena = abeceda + cisla"
   ]
  },
  {
   "cell_type": "code",
   "execution_count": 121,
   "metadata": {},
   "outputs": [
    {
     "data": {
      "text/plain": [
       "['k',\n",
       " 'r',\n",
       " 'á',\n",
       " 'l',\n",
       " ' ',\n",
       " 'ř',\n",
       " 'e',\n",
       " 'k',\n",
       " 'l',\n",
       " ' ',\n",
       " 'h',\n",
       " 'o',\n",
       " 'n',\n",
       " 'z',\n",
       " 'o',\n",
       " 'v',\n",
       " 'i',\n",
       " ':',\n",
       " ' ',\n",
       " '\"',\n",
       " 't',\n",
       " 'a',\n",
       " ' ',\n",
       " 's',\n",
       " 'a',\n",
       " 'ň',\n",
       " ' ',\n",
       " 'm',\n",
       " 'á',\n",
       " ' ',\n",
       " '7',\n",
       " ' ',\n",
       " 'h',\n",
       " 'l',\n",
       " 'a',\n",
       " 'v',\n",
       " '!',\n",
       " ' ',\n",
       " 'z',\n",
       " 'a',\n",
       " 'b',\n",
       " 'i',\n",
       " 'j',\n",
       " ' ',\n",
       " 'j',\n",
       " 'i',\n",
       " ' ',\n",
       " 'a',\n",
       " ' ',\n",
       " 'd',\n",
       " 'o',\n",
       " 's',\n",
       " 't',\n",
       " 'a',\n",
       " 'n',\n",
       " 'e',\n",
       " 'š',\n",
       " ' ',\n",
       " '1',\n",
       " '/',\n",
       " '2',\n",
       " ' ',\n",
       " 'k',\n",
       " 'r',\n",
       " 'á',\n",
       " 'l',\n",
       " 'o',\n",
       " 'v',\n",
       " 's',\n",
       " 't',\n",
       " 'v',\n",
       " 'í',\n",
       " '.',\n",
       " '\"']"
      ]
     },
     "execution_count": 121,
     "metadata": {},
     "output_type": "execute_result"
    }
   ],
   "source": [
    "list(veta)"
   ]
  },
  {
   "cell_type": "code",
   "execution_count": 130,
   "metadata": {
    "scrolled": true
   },
   "outputs": [
    {
     "name": "stdout",
     "output_type": "stream",
     "text": [
      "Veta obsahuje 52 pismen.\n"
     ]
    }
   ],
   "source": [
    "letters = []\n",
    "for letter in veta:\n",
    "    if letter in abeceda:\n",
    "        letters.append(letter)\n",
    "print(\"Veta obsahuje {} pismen.\".format(len(letters)))\n"
   ]
  },
  {
   "cell_type": "code",
   "execution_count": 131,
   "metadata": {},
   "outputs": [
    {
     "name": "stdout",
     "output_type": "stream",
     "text": [
      "Veta obsahuje 3 cisla.\n"
     ]
    }
   ],
   "source": [
    "numbers = []\n",
    "for x in veta:\n",
    "    if x in cisla:\n",
    "        numbers.append(x)\n",
    "print(\"Veta obsahuje {} cisla.\".format(len(numbers)))"
   ]
  },
  {
   "cell_type": "code",
   "execution_count": 132,
   "metadata": {},
   "outputs": [
    {
     "name": "stdout",
     "output_type": "stream",
     "text": [
      "Veta obsahuje 19 znaku.\n"
     ]
    }
   ],
   "source": [
    "glyphs = []\n",
    "for x in veta:\n",
    "    if x not in cisla_pismena:\n",
    "        glyphs.append(x)\n",
    "print(\"Veta obsahuje {} znaku.\".format(len(glyphs)))"
   ]
  },
  {
   "cell_type": "code",
   "execution_count": 137,
   "metadata": {},
   "outputs": [
    {
     "name": "stdout",
     "output_type": "stream",
     "text": [
      "Veta obsahuje 19 znaků.\n"
     ]
    }
   ],
   "source": [
    "print(\"Veta obsahuje {} znaků.\".format(len([x for x in veta if x not in cisla + pismena])))"
   ]
  },
  {
   "cell_type": "code",
   "execution_count": 138,
   "metadata": {},
   "outputs": [
    {
     "name": "stdout",
     "output_type": "stream",
     "text": [
      "Veta obsahuje 3 cisla.\n"
     ]
    }
   ],
   "source": [
    "print(\"Veta obsahuje {} cisla.\".format(len([x for x in veta if x in cisla])))"
   ]
  },
  {
   "cell_type": "code",
   "execution_count": 139,
   "metadata": {},
   "outputs": [
    {
     "name": "stdout",
     "output_type": "stream",
     "text": [
      "Veta obsahuje 52 pismen.\n"
     ]
    }
   ],
   "source": [
    "print(\"Veta obsahuje {} pismen.\".format(len([x for x in veta if x in abeceda])))"
   ]
  },
  {
   "cell_type": "code",
   "execution_count": null,
   "metadata": {
    "collapsed": true
   },
   "outputs": [],
   "source": []
  }
 ],
 "metadata": {
  "kernelspec": {
   "display_name": "Python 3",
   "language": "python",
   "name": "python3"
  },
  "language_info": {
   "codemirror_mode": {
    "name": "ipython",
    "version": 3
   },
   "file_extension": ".py",
   "mimetype": "text/x-python",
   "name": "python",
   "nbconvert_exporter": "python",
   "pygments_lexer": "ipython3",
   "version": "3.6.1"
  }
 },
 "nbformat": 4,
 "nbformat_minor": 2
}
