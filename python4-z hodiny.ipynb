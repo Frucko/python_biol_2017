{
 "cells": [
  {
   "cell_type": "code",
   "execution_count": 1,
   "metadata": {
    "collapsed": true
   },
   "outputs": [],
   "source": [
    "assert 1+1==2"
   ]
  },
  {
   "cell_type": "code",
   "execution_count": 2,
   "metadata": {},
   "outputs": [
    {
     "ename": "AssertionError",
     "evalue": "",
     "output_type": "error",
     "traceback": [
      "\u001b[1;31m---------------------------------------------------------------------------\u001b[0m",
      "\u001b[1;31mAssertionError\u001b[0m                            Traceback (most recent call last)",
      "\u001b[1;32m<ipython-input-2-3907a008fbbb>\u001b[0m in \u001b[0;36m<module>\u001b[1;34m()\u001b[0m\n\u001b[1;32m----> 1\u001b[1;33m \u001b[1;32massert\u001b[0m \u001b[1;36m1\u001b[0m\u001b[1;33m+\u001b[0m\u001b[1;36m1\u001b[0m\u001b[1;33m==\u001b[0m\u001b[1;36m3\u001b[0m\u001b[1;33m\u001b[0m\u001b[0m\n\u001b[0m",
      "\u001b[1;31mAssertionError\u001b[0m: "
     ]
    }
   ],
   "source": [
    "assert 1+1==3"
   ]
  },
  {
   "cell_type": "code",
   "execution_count": 12,
   "metadata": {
    "collapsed": true
   },
   "outputs": [],
   "source": [
    "def cat_age(years, months):\n",
    "    vek = 0\n",
    "    if years == 2:\n",
    "        vek += 18+7\n",
    "    if years > 2:\n",
    "        vek += (18+7+(years - 2)*5)+months*(5/12)\n",
    "    if years == 0:\n",
    "        vek += months*(18/12)\n",
    "    if years == 1:\n",
    "        vek += 18+months*(7/12)\n",
    "    return vek"
   ]
  },
  {
   "cell_type": "code",
   "execution_count": 16,
   "metadata": {},
   "outputs": [
    {
     "data": {
      "text/plain": [
       "18.0"
      ]
     },
     "execution_count": 16,
     "metadata": {},
     "output_type": "execute_result"
    }
   ],
   "source": [
    "cat_age(1,0)"
   ]
  },
  {
   "cell_type": "code",
   "execution_count": 17,
   "metadata": {},
   "outputs": [],
   "source": [
    "assert cat_age(1,0) == 18.0, 'Věk nesedí! {}'.format(cat_age(1,0))"
   ]
  },
  {
   "cell_type": "code",
   "execution_count": 19,
   "metadata": {},
   "outputs": [],
   "source": [
    "def odecet (prvni, druhy):\n",
    "    return prvni-druhy\n",
    "    "
   ]
  },
  {
   "cell_type": "code",
   "execution_count": 20,
   "metadata": {},
   "outputs": [
    {
     "data": {
      "text/plain": [
       "-1"
      ]
     },
     "execution_count": 20,
     "metadata": {},
     "output_type": "execute_result"
    }
   ],
   "source": [
    "odecet (8,9)"
   ]
  },
  {
   "cell_type": "code",
   "execution_count": 21,
   "metadata": {},
   "outputs": [
    {
     "data": {
      "text/plain": [
       "1"
      ]
     },
     "execution_count": 21,
     "metadata": {},
     "output_type": "execute_result"
    }
   ],
   "source": [
    "odecet (druhy = 8, prvni = 9)"
   ]
  },
  {
   "cell_type": "code",
   "execution_count": 22,
   "metadata": {
    "collapsed": true
   },
   "outputs": [],
   "source": [
    "len??"
   ]
  },
  {
   "cell_type": "code",
   "execution_count": 66,
   "metadata": {
    "collapsed": true
   },
   "outputs": [],
   "source": [
    "text=\"\"\"Řetězec: Byl jeden Řek a ten mi řek, abych mu řek, \n",
    "kolik je v Řecku řeckých řek a já mu řek, \n",
    "že nejsem Řek abych mu řek kolik je v Řecku řeckých řek.\"\"\""
   ]
  },
  {
   "cell_type": "code",
   "execution_count": 70,
   "metadata": {
    "collapsed": true
   },
   "outputs": [],
   "source": [
    "text=\"Barbucha\""
   ]
  },
  {
   "cell_type": "code",
   "execution_count": 71,
   "metadata": {},
   "outputs": [],
   "source": [
    "def string_upper_lower(s):\n",
    "    lower =len ([x for x in s if x.islower()])\n",
    "    upper =len ([x for x in s if x.isupper()])   \n",
    "    return (lower, upper)"
   ]
  },
  {
   "cell_type": "code",
   "execution_count": 72,
   "metadata": {},
   "outputs": [
    {
     "data": {
      "text/plain": [
       "(7, 1)"
      ]
     },
     "execution_count": 72,
     "metadata": {},
     "output_type": "execute_result"
    }
   ],
   "source": [
    "string_upper_lower(text)\n"
   ]
  },
  {
   "cell_type": "code",
   "execution_count": 62,
   "metadata": {},
   "outputs": [],
   "source": [
    "def meal_voucher (stravenka,cena_obeda):\n",
    "    print(\"Zaplaťte {} stravenkami.\".format(cena_obeda//stravenka))\n",
    "    print(\"Doplaťte hotově {} Kč.\".format(cena_obeda-((cena_obeda//stravenka)*stravenka)))"
   ]
  },
  {
   "cell_type": "code",
   "execution_count": 63,
   "metadata": {},
   "outputs": [
    {
     "name": "stdout",
     "output_type": "stream",
     "text": [
      "Zaplaťte 13 stravenkami.\n",
      "Doplaťte hotově 38 Kč.\n"
     ]
    }
   ],
   "source": [
    "meal_voucher (74,1000)"
   ]
  },
  {
   "cell_type": "code",
   "execution_count": null,
   "metadata": {
    "collapsed": true
   },
   "outputs": [],
   "source": [
    "len_seq=[]"
   ]
  },
  {
   "cell_type": "code",
   "execution_count": 141,
   "metadata": {},
   "outputs": [],
   "source": [
    "def nucl_freq (seq,nuc):\n",
    "        return(len(seq)/seq.count(nuc))\n"
   ]
  },
  {
   "cell_type": "code",
   "execution_count": 246,
   "metadata": {
    "collapsed": true
   },
   "outputs": [],
   "source": [
    "seq=(\"ACTTTTCTUUUUtjhiorngfklbnadfklTTHDNNNDTCGGCT\")"
   ]
  },
  {
   "cell_type": "code",
   "execution_count": 247,
   "metadata": {},
   "outputs": [
    {
     "data": {
      "text/plain": [
       "4"
      ]
     },
     "execution_count": 247,
     "metadata": {},
     "output_type": "execute_result"
    }
   ],
   "source": [
    "seq.count(\"C\")"
   ]
  },
  {
   "cell_type": "code",
   "execution_count": 248,
   "metadata": {},
   "outputs": [
    {
     "data": {
      "text/plain": [
       "44"
      ]
     },
     "execution_count": 248,
     "metadata": {},
     "output_type": "execute_result"
    }
   ],
   "source": [
    "len(seq)"
   ]
  },
  {
   "cell_type": "code",
   "execution_count": 249,
   "metadata": {},
   "outputs": [
    {
     "data": {
      "text/plain": [
       "41.0"
      ]
     },
     "execution_count": 249,
     "metadata": {},
     "output_type": "execute_result"
    }
   ],
   "source": [
    "nucl_freq(\"ACTTTTCTTCGGCkajvndfsvdfgndfnaTUUUUGTTTKF\",\"A\")"
   ]
  },
  {
   "cell_type": "code",
   "execution_count": null,
   "metadata": {
    "collapsed": true
   },
   "outputs": [],
   "source": []
  },
  {
   "cell_type": "code",
   "execution_count": 252,
   "metadata": {},
   "outputs": [],
   "source": [
    "freqs={}\n",
    "def all_nucl_freq(seq):\n",
    "    for letter in seq:\n",
    "        freqs[letter]=(len(seq)/seq.count(letter))\n",
    "    return(freqs)"
   ]
  },
  {
   "cell_type": "code",
   "execution_count": 253,
   "metadata": {},
   "outputs": [
    {
     "data": {
      "text/plain": [
       "{'A': 44.0,\n",
       " 'C': 11.0,\n",
       " 'D': 22.0,\n",
       " 'G': 22.0,\n",
       " 'H': 44.0,\n",
       " 'N': 14.666666666666666,\n",
       " 'T': 4.888888888888889,\n",
       " 'U': 11.0,\n",
       " 'a': 44.0,\n",
       " 'b': 44.0,\n",
       " 'd': 44.0,\n",
       " 'f': 22.0,\n",
       " 'g': 44.0,\n",
       " 'h': 44.0,\n",
       " 'i': 44.0,\n",
       " 'j': 44.0,\n",
       " 'k': 22.0,\n",
       " 'l': 22.0,\n",
       " 'n': 22.0,\n",
       " 'o': 44.0,\n",
       " 'r': 44.0,\n",
       " 't': 44.0}"
      ]
     },
     "execution_count": 253,
     "metadata": {},
     "output_type": "execute_result"
    }
   ],
   "source": [
    "all_nucl_freq(seq)"
   ]
  },
  {
   "cell_type": "code",
   "execution_count": 254,
   "metadata": {},
   "outputs": [
    {
     "data": {
      "text/plain": [
       "{'A': 44.0,\n",
       " 'C': 11.0,\n",
       " 'D': 22.0,\n",
       " 'G': 22.0,\n",
       " 'H': 44.0,\n",
       " 'N': 14.666666666666666,\n",
       " 'T': 4.888888888888889,\n",
       " 'U': 11.0,\n",
       " 'a': 44.0,\n",
       " 'b': 44.0,\n",
       " 'd': 44.0,\n",
       " 'f': 22.0,\n",
       " 'g': 44.0,\n",
       " 'h': 44.0,\n",
       " 'i': 44.0,\n",
       " 'j': 44.0,\n",
       " 'k': 22.0,\n",
       " 'l': 22.0,\n",
       " 'n': 22.0,\n",
       " 'o': 44.0,\n",
       " 'r': 44.0,\n",
       " 't': 44.0}"
      ]
     },
     "execution_count": 254,
     "metadata": {},
     "output_type": "execute_result"
    }
   ],
   "source": [
    "freqs"
   ]
  },
  {
   "cell_type": "code",
   "execution_count": 245,
   "metadata": {},
   "outputs": [
    {
     "name": "stdout",
     "output_type": "stream",
     "text": [
      "A\n",
      "C\n",
      "T\n",
      "T\n",
      "T\n",
      "T\n",
      "C\n",
      "T\n",
      "U\n",
      "U\n",
      "U\n",
      "U\n",
      "T\n",
      "T\n",
      "H\n",
      "D\n",
      "N\n",
      "N\n",
      "N\n",
      "D\n",
      "T\n",
      "C\n",
      "G\n",
      "G\n",
      "C\n",
      "T\n"
     ]
    }
   ],
   "source": [
    "for letter in seq:\n",
    "    print (letter)"
   ]
  },
  {
   "cell_type": "code",
   "execution_count": null,
   "metadata": {
    "collapsed": true
   },
   "outputs": [],
   "source": []
  }
 ],
 "metadata": {
  "kernelspec": {
   "display_name": "Python 3",
   "language": "python",
   "name": "python3"
  },
  "language_info": {
   "codemirror_mode": {
    "name": "ipython",
    "version": 3
   },
   "file_extension": ".py",
   "mimetype": "text/x-python",
   "name": "python",
   "nbconvert_exporter": "python",
   "pygments_lexer": "ipython3",
   "version": "3.6.1"
  }
 },
 "nbformat": 4,
 "nbformat_minor": 2
}
